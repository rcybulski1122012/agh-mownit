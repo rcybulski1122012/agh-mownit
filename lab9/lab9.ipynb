{
 "cells": [
  {
   "cell_type": "code",
   "execution_count": 5,
   "metadata": {
    "collapsed": true,
    "pycharm": {
     "name": "#%%\n"
    }
   },
   "outputs": [],
   "source": [
    "import numpy as np\n",
    "import random\n",
    "from typing import Any\n",
    "import time"
   ]
  },
  {
   "cell_type": "code",
   "execution_count": 6,
   "outputs": [],
   "source": [
    "K = 6\n",
    "M = 3\n",
    "X = [random.choice([1, -1]) for _ in range(100_000_000)]"
   ],
   "metadata": {
    "collapsed": false,
    "pycharm": {
     "name": "#%%\n"
    }
   }
  },
  {
   "cell_type": "code",
   "execution_count": 7,
   "outputs": [],
   "source": [
    "def thomas_algorithm(a, b, c, d, dtype):\n",
    "    \"\"\"\n",
    "    Solves a linear system of equations with a tridiagonal matrix using the Thomas algorithm.\n",
    "\n",
    "    Parameters:\n",
    "    a (list): Lower diagonal elements (with n-1 elements, where n is the matrix size)\n",
    "    b (list): Main diagonal elements (with n elements, where n is the matrix size)\n",
    "    c (list): Upper diagonal elements (with n-1 elements, where n is the matrix size)\n",
    "    d (list): Constants of the linear equations (with n elements, where n is the matrix size)\n",
    "\n",
    "    Returns:\n",
    "    list: Solution x values of the linear system\n",
    "    \"\"\"\n",
    "    n = len(d)\n",
    "    c_ = np.zeros(n, dtype=dtype)\n",
    "    d_ = np.zeros(n, dtype=dtype)\n",
    "    x = np.zeros(n, dtype=dtype)\n",
    "\n",
    "    # Step 1: Decomposition / Forward sweep\n",
    "    c_[0] = dtype(c[0] / b[0])\n",
    "    d_[0] = dtype(d[0] / b[0])\n",
    "\n",
    "    for i in range(1, n - 1):\n",
    "        c_[i] = dtype(c[i] / (b[i] - a[i - 1] * c_[i - 1]))\n",
    "\n",
    "    for i in range(1, n):\n",
    "        d_[i] = dtype((d[i] - a[i - 1] * d_[i - 1]) / (b[i] - a[i - 1] * c_[i - 1]))\n",
    "\n",
    "    # Step 2: Back substitution\n",
    "    x[-1] = d_[-1]\n",
    "\n",
    "    for i in range(n - 2, -1, -1):\n",
    "        x[i] = dtype(d_[i] - c_[i] * x[i + 1])\n",
    "\n",
    "    return x"
   ],
   "metadata": {
    "collapsed": false,
    "pycharm": {
     "name": "#%%\n"
    }
   }
  },
  {
   "cell_type": "code",
   "execution_count": 47,
   "outputs": [],
   "source": [
    "def gauss(a, b, dtype):\n",
    "    n = len(b)\n",
    "    for k in range(0, n - 1):\n",
    "        for i in range(k + 1, n):\n",
    "            if a[i, k] != 0.0:\n",
    "                lam = dtype(a[i, k] / a[k, k])\n",
    "                a[i, k + 1 : n] = dtype(a[i, k + 1 : n] - lam * a[k, k + 1 : n])\n",
    "                b[i] = dtype(b[i] - lam * b[k])\n",
    "\n",
    "    for k in range(n - 1, -1, -1):\n",
    "        b[k] = dtype((b[k] - np.dot(a[k, k + 1 : n], b[k + 1 : n])) / a[k, k])\n",
    "\n",
    "    return b"
   ],
   "metadata": {
    "collapsed": false,
    "pycharm": {
     "name": "#%%\n"
    }
   }
  },
  {
   "cell_type": "code",
   "execution_count": 48,
   "outputs": [],
   "source": [
    "def get_A(n: int, dtype: Any) -> np.ndarray:\n",
    "    result = np.zeros((n, n), dtype=dtype)\n",
    "\n",
    "    for i in range(n):\n",
    "        result[i, i] = K\n",
    "\n",
    "    for i in range(n-1):\n",
    "        result[i, i+1] = dtype(1 / (1 + M + i))\n",
    "        result[i+1, i+1] = dtype(K / (2 + M  + i))\n",
    "\n",
    "\n",
    "    return result"
   ],
   "metadata": {
    "collapsed": false,
    "pycharm": {
     "name": "#%%\n"
    }
   }
  },
  {
   "cell_type": "code",
   "execution_count": 49,
   "outputs": [],
   "source": [
    "def test(n: int, x: np.array, dtype: Any):\n",
    "    A = get_A(n, dtype)\n",
    "    B = np.matmul(A, x, dtype=dtype)\n",
    "    x = np.array(x, dtype=dtype)\n",
    "    upper_diagonal = np.diag(A, k=1)\n",
    "    main_diagonal = np.diag(A)\n",
    "    lower_diagonal = np.diag(A, k=-1)\n",
    "\n",
    "    start_thomas = time.time()\n",
    "    result_thomas = thomas_algorithm(lower_diagonal, main_diagonal, upper_diagonal, B, dtype)\n",
    "    end_thomas = time.time()\n",
    "\n",
    "    start_gauss = time.time()\n",
    "    result_gauss = gauss(A, B, dtype)\n",
    "    end_gauss = time.time()\n",
    "\n",
    "    return np.average(abs(result_thomas - x)), end_thomas - start_thomas, np.average(abs(result_gauss - x)), end_gauss - start_gauss"
   ],
   "metadata": {
    "collapsed": false,
    "pycharm": {
     "name": "#%%\n"
    }
   }
  },
  {
   "cell_type": "code",
   "execution_count": 56,
   "outputs": [],
   "source": [
    "results = [[\"n\", \"gauss-float\", \"gauss-double\", \"thomas-float\", \"thomas-double\"]]\n",
    "times = [[\"n\", \"gauss-float\", \"gauss-double\", \"thomas-float\", \"thomas-double\",]]\n",
    "for i in list(range(3, 21)) + [50, 100, 200, 300, 400, 500, 750, 1000, 1500, 2000, 2500, 5000]:\n",
    "    results_float = test(i, np.float32(X[:i]), np.float32)\n",
    "    results_double = test(i, np.float64(X[:i]), np.float64)\n",
    "\n",
    "    results.append([\n",
    "        i,\n",
    "        results_float[2],\n",
    "        results_double[2],\n",
    "        results_float[0],\n",
    "        results_double[0],\n",
    "    ])\n",
    "\n",
    "    times.append([\n",
    "        i,\n",
    "        results_float[3],\n",
    "        results_double[3],\n",
    "        results_float[1],\n",
    "        results_double[1],\n",
    "    ])"
   ],
   "metadata": {
    "collapsed": false,
    "pycharm": {
     "name": "#%%\n"
    }
   }
  },
  {
   "cell_type": "code",
   "execution_count": 57,
   "outputs": [
    {
     "name": "stdout",
     "output_type": "stream",
     "text": [
      "n,gauss-float,gauss-double,thomas-float,thomas-double\n",
      "3,0.00000e+00,0.00000e+00,1.98682e-08,0.00000e+00\n",
      "4,1.49012e-08,0.00000e+00,4.47035e-08,0.00000e+00\n",
      "5,1.19209e-08,4.44089e-17,2.38419e-08,0.00000e+00\n",
      "6,9.93411e-09,3.70074e-17,3.97364e-08,0.00000e+00\n",
      "7,8.51495e-09,6.34413e-17,3.40598e-08,0.00000e+00\n",
      "8,7.45058e-09,5.55112e-17,4.47035e-08,0.00000e+00\n",
      "9,6.62274e-09,4.93432e-17,3.97364e-08,0.00000e+00\n",
      "10,5.96046e-09,4.44089e-17,3.57628e-08,0.00000e+00\n",
      "11,1.62558e-08,6.05576e-17,4.33488e-08,0.00000e+00\n",
      "12,1.49012e-08,7.40149e-17,4.47035e-08,0.00000e+00\n",
      "13,1.37549e-08,6.83214e-17,4.12648e-08,8.54018e-18\n",
      "14,1.27724e-08,6.34413e-17,4.25747e-08,7.93016e-18\n",
      "15,1.19209e-08,5.92119e-17,3.97364e-08,1.48030e-17\n",
      "16,1.11759e-08,7.63278e-17,3.72529e-08,2.08167e-17\n",
      "17,1.05185e-08,7.18380e-17,3.50616e-08,1.95922e-17\n",
      "18,9.93411e-09,6.78470e-17,3.97364e-08,1.85037e-17\n",
      "19,9.41126e-09,6.42761e-17,3.76450e-08,1.75298e-17\n",
      "20,8.94070e-09,6.10623e-17,3.57628e-08,1.66533e-17\n",
      "50,1.07288e-08,4.66294e-17,1.90735e-08,1.77636e-17\n",
      "100,1.25170e-08,3.33067e-17,2.38419e-08,2.22045e-17\n",
      "200,1.75834e-08,2.77556e-17,2.74181e-08,2.49800e-17\n",
      "300,1.88748e-08,2.73855e-17,2.86102e-08,2.77556e-17\n",
      "400,1.78814e-08,2.63678e-17,2.75671e-08,2.58127e-17\n",
      "500,1.70469e-08,2.84217e-17,2.68221e-08,2.62013e-17\n",
      "750,1.61330e-08,2.69414e-17,2.67824e-08,2.78296e-17\n",
      "1000,1.82390e-08,3.09752e-17,2.63453e-08,2.85327e-17\n",
      "1500,1.59740e-08,2.84957e-17,2.69810e-08,2.92359e-17\n",
      "2000,1.87755e-08,3.31957e-17,2.78950e-08,2.99205e-17\n",
      "2500,1.85251e-08,3.15303e-17,2.77996e-08,2.99316e-17\n",
      "5000,1.77026e-08,3.10640e-17,2.83003e-08,2.95985e-17\n"
     ]
    }
   ],
   "source": [
    "def print_results(r):\n",
    "    sep = \",\"\n",
    "    print(*r[0], sep=sep)\n",
    "\n",
    "    for row in r[1:]:\n",
    "        print(sep.join([str(row[0])] + [f\"{item:.5e}\" for item in row[1:]]))\n",
    "\n",
    "\n",
    "print_results(results)"
   ],
   "metadata": {
    "collapsed": false,
    "pycharm": {
     "name": "#%%\n"
    }
   }
  },
  {
   "cell_type": "code",
   "execution_count": 58,
   "outputs": [
    {
     "name": "stdout",
     "output_type": "stream",
     "text": [
      "n,gauss-float,gauss-double,thomas-float,thomas-double\n",
      "3,6.58035e-05,2.59876e-05,2.81334e-05,1.69277e-05\n",
      "4,1.10865e-04,5.35965e-04,2.19345e-05,5.98431e-05\n",
      "5,6.88791e-04,3.80993e-04,3.19481e-05,2.98023e-05\n",
      "6,2.17199e-04,3.00407e-05,3.50475e-05,2.28882e-05\n",
      "7,1.24931e-04,4.81606e-05,3.09944e-05,2.47955e-05\n",
      "8,2.26021e-04,1.10149e-04,3.38554e-05,2.88486e-05\n",
      "9,1.49012e-04,8.72612e-05,3.79086e-05,3.19481e-05\n",
      "10,1.46866e-04,4.81606e-05,4.10080e-05,2.98023e-05\n",
      "11,2.16961e-04,1.38998e-04,4.38690e-05,3.60012e-05\n",
      "12,2.22921e-04,1.35899e-04,4.91142e-05,3.62396e-05\n",
      "13,2.07901e-04,6.19888e-05,5.19753e-05,3.91006e-05\n",
      "14,2.93732e-04,1.90020e-04,5.50747e-05,4.91142e-05\n",
      "15,4.25816e-04,1.65224e-04,6.03199e-05,9.91821e-05\n",
      "16,3.03745e-04,1.83105e-04,5.91278e-05,4.50611e-05\n",
      "17,3.52144e-04,1.17779e-04,6.50883e-05,4.29153e-05\n",
      "18,4.35114e-04,1.80960e-04,6.38962e-05,5.38826e-05\n",
      "19,4.37021e-04,1.25885e-04,6.41346e-05,5.10216e-05\n",
      "20,4.26292e-04,1.41144e-04,6.77109e-05,4.67300e-05\n",
      "50,2.54703e-03,4.51088e-04,1.51873e-04,2.19107e-04\n",
      "100,1.04101e-02,9.89199e-04,5.50985e-04,1.97887e-04\n",
      "200,3.33087e-02,3.33285e-03,6.71148e-04,6.48022e-04\n",
      "300,7.36377e-02,7.79605e-03,7.82251e-04,7.33137e-04\n",
      "400,1.26468e-01,1.23982e-02,1.60575e-03,7.84874e-04\n",
      "500,1.95069e-01,2.02761e-02,1.30725e-03,1.00183e-03\n",
      "750,4.56205e-01,4.54531e-02,1.98698e-03,1.64819e-03\n",
      "1000,8.38669e-01,9.64971e-02,2.71320e-03,3.34907e-03\n",
      "1500,2.11909e+00,1.97641e-01,4.45008e-03,4.26912e-03\n",
      "2000,3.44050e+00,3.44873e-01,7.07388e-03,4.51875e-03\n",
      "2500,5.40206e+00,5.47035e-01,8.51989e-03,5.31292e-03\n",
      "5000,2.17316e+01,2.19887e+00,1.73359e-02,1.11918e-02\n"
     ]
    }
   ],
   "source": [
    "print_results(times)"
   ],
   "metadata": {
    "collapsed": false,
    "pycharm": {
     "name": "#%%\n"
    }
   }
  },
  {
   "cell_type": "code",
   "execution_count": 54,
   "outputs": [
    {
     "name": "stdout",
     "output_type": "stream",
     "text": [
      "(1.084202172485504434e-20, 6.079673767089844e-05, 0.0, 0.00015306472778320312)\n"
     ]
    }
   ],
   "source": [
    "print(test(10, np.float128(X[:10]), np.float128))"
   ],
   "metadata": {
    "collapsed": false,
    "pycharm": {
     "name": "#%%\n"
    }
   }
  },
  {
   "cell_type": "code",
   "execution_count": null,
   "outputs": [],
   "source": [],
   "metadata": {
    "collapsed": false,
    "pycharm": {
     "name": "#%%\n"
    }
   }
  }
 ],
 "metadata": {
  "kernelspec": {
   "display_name": "Python 3",
   "language": "python",
   "name": "python3"
  },
  "language_info": {
   "codemirror_mode": {
    "name": "ipython",
    "version": 2
   },
   "file_extension": ".py",
   "mimetype": "text/x-python",
   "name": "python",
   "nbconvert_exporter": "python",
   "pygments_lexer": "ipython2",
   "version": "2.7.6"
  }
 },
 "nbformat": 4,
 "nbformat_minor": 0
}