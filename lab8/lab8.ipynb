{
 "cells": [
  {
   "cell_type": "code",
   "execution_count": 1,
   "metadata": {
    "collapsed": true,
    "pycharm": {
     "name": "#%%\n"
    }
   },
   "outputs": [],
   "source": [
    "import numpy as np\n",
    "import random"
   ]
  },
  {
   "cell_type": "code",
   "execution_count": 26,
   "outputs": [],
   "source": [
    "def gauss(a, b, dtype):\n",
    "    n = len(b)\n",
    "    for k in range(0, n - 1):\n",
    "        for i in range(k + 1, n):\n",
    "            if a[i, k] != 0.0:\n",
    "                lam = dtype(a[i, k] / a[k, k])\n",
    "                a[i, k + 1 : n] = dtype(a[i, k + 1 : n] - lam * a[k, k + 1 : n])\n",
    "                b[i] = dtype(b[i] - lam * b[k])\n",
    "    for k in range(n - 1, -1, -1):\n",
    "        b[k] = dtype((b[k] - np.dot(a[k, k + 1 : n], b[k + 1 : n])) / a[k, k])\n",
    "\n",
    "\n",
    "    return b"
   ],
   "metadata": {
    "collapsed": false,
    "pycharm": {
     "name": "#%%\n"
    }
   }
  },
  {
   "cell_type": "code",
   "execution_count": 98,
   "outputs": [],
   "source": [
    "def test_a(n: int, x: list[int], dtype):\n",
    "    A = np.zeros((n, n), dtype=dtype)\n",
    "\n",
    "    for i in range(n):\n",
    "        A[0, i] = dtype(1)\n",
    "    for i in range(1, n):\n",
    "        for j in range(n):\n",
    "            A[i, j] = dtype(1/(i + j + 1))     # + 1 zamiast -1 bo iterujemy od 0\n",
    "\n",
    "    B = np.matmul(A, x)\n",
    "    res = gauss(A, B, dtype)\n",
    "\n",
    "\n",
    "    return abs(res - x)\n",
    "\n",
    "\n",
    "results_avg_a = [[\"n\", \"float\", \"double\", \"longdouble\"]]\n",
    "x = [random.choice([1, -1]) for _ in range(1000)]\n",
    "for i in range(3, 21):\n",
    "    result_avg = [\n",
    "        i,\n",
    "        np.average(test_a(i, np.float32(x[:i]), np.float32)),\n",
    "        np.average(test_a(i, np.float64(x[:i]), np.float64)),\n",
    "        np.average(test_a(i, np.float128(x[:i]), np.float128)),\n",
    "    ]\n",
    "    results_avg_a.append(result_avg)"
   ],
   "metadata": {
    "collapsed": false,
    "pycharm": {
     "name": "#%%\n"
    }
   }
  },
  {
   "cell_type": "code",
   "execution_count": 99,
   "outputs": [
    {
     "name": "stdout",
     "output_type": "stream",
     "text": [
      "n,float,double,longdouble\n",
      "3,1.37091e-06,0.00000e+00,0.00000e+00\n",
      "4,4.47035e-08,1.30729e-13,1.81604e-17\n",
      "5,9.83158e-05,3.38334e-12,3.18690e-16\n",
      "6,2.58184e-02,1.40762e-10,1.12932e-14\n",
      "7,1.38756e+00,1.54443e-09,2.94327e-13\n",
      "8,3.14645e+00,1.48209e-09,6.47407e-12\n",
      "9,8.59376e+00,6.02446e-07,1.24497e-10\n",
      "10,4.34302e+00,7.28497e-05,2.02861e-09\n",
      "11,8.21015e+00,1.09825e-04,4.15440e-08\n",
      "12,3.37272e+00,3.92016e-02,1.91174e-06\n",
      "13,2.42170e+01,2.29442e-01,2.32816e-04\n",
      "14,7.69223e+00,3.37965e+00,3.79810e-04\n",
      "15,6.79386e+01,6.08732e-01,1.20234e-04\n",
      "16,5.45787e+00,1.09184e+00,1.13401e-04\n",
      "17,5.92395e+00,1.48696e+00,3.10276e-04\n",
      "18,5.60833e+00,7.78736e+00,1.98915e-04\n",
      "19,3.59738e+00,5.09338e+00,6.71371e-04\n",
      "20,2.52876e+00,7.58635e+00,2.23995e-04\n"
     ]
    }
   ],
   "source": [
    "def print_results(r):\n",
    "    sep = \",\"\n",
    "    print(*r[0], sep=sep)\n",
    "\n",
    "    for row in r[1:]:\n",
    "        print(f\"{row[0]}{sep}{row[1]:.5e}{sep}{row[2]:.5e}{sep}{row[3]:.5e}\")\n",
    "\n",
    "print_results(results_avg_a)"
   ],
   "metadata": {
    "collapsed": false,
    "pycharm": {
     "name": "#%%\n"
    }
   }
  },
  {
   "cell_type": "code",
   "execution_count": 100,
   "outputs": [],
   "source": [
    "def test_b(n: int, x: list[int], dtype):\n",
    "    A = np.zeros((n, n), dtype=dtype)\n",
    "\n",
    "    for i in range(n):\n",
    "        for j in range(n):\n",
    "            if j >= i:\n",
    "                A[i, j] = dtype((2 * (i + 1))/(j + 1))\n",
    "\n",
    "    for i in range(n):\n",
    "        for j in range(n):\n",
    "            if j < i:\n",
    "                A[i, j] = A[j, i]\n",
    "\n",
    "    B = np.matmul(A, x)\n",
    "    res = gauss(A, B, dtype)\n",
    "\n",
    "    return abs(res - x)\n",
    "\n",
    "results_avg_b = [[\"n\", \"float\", \"double\", \"longdouble\"]]\n",
    "x = [random.choice([1, -1]) for _ in range(3000)]\n",
    "for i in list(range(3, 21)) + [50, 100, 200, 300, 400, 500, 750, 1000, 2000]:\n",
    "    result_avg = [\n",
    "        i,\n",
    "        np.average(test_b(i, np.float32(x[:i]), np.float32)),\n",
    "        np.average(test_b(i, np.float64(x[:i]), np.float64)),\n",
    "        np.average(test_b(i, np.float128(x[:i]), np.float128)),\n",
    "    ]\n",
    "    results_avg_b.append(result_avg)"
   ],
   "metadata": {
    "collapsed": false,
    "pycharm": {
     "name": "#%%\n"
    }
   }
  },
  {
   "cell_type": "code",
   "execution_count": 101,
   "outputs": [
    {
     "name": "stdout",
     "output_type": "stream",
     "text": [
      "n,float,double,longdouble\n",
      "3,0.00000e+00,0.00000e+00,5.42101e-20\n",
      "4,7.45058e-08,1.94289e-16,1.08420e-19\n",
      "5,1.31130e-07,2.22045e-16,4.33681e-20\n",
      "6,1.88748e-07,4.81097e-16,1.26490e-19\n",
      "7,4.34262e-07,3.80648e-16,2.86539e-19\n",
      "8,8.12113e-07,4.57967e-16,3.25261e-19\n",
      "9,9.93411e-07,4.19418e-16,4.21634e-19\n",
      "10,7.56979e-07,1.07692e-15,5.80048e-19\n",
      "11,1.18667e-06,2.01859e-15,3.20332e-19\n",
      "12,1.02818e-06,2.83107e-15,4.33681e-19\n",
      "13,1.88901e-06,2.29731e-15,4.71211e-19\n",
      "14,2.13299e-06,3.18000e-15,3.67854e-19\n",
      "15,2.57889e-06,3.48610e-15,1.03361e-18\n",
      "16,3.02866e-06,4.93355e-15,6.03087e-19\n",
      "17,4.94719e-06,4.41477e-15,1.50513e-18\n",
      "18,3.41071e-06,6.85254e-15,1.60823e-18\n",
      "19,5.75028e-06,4.04939e-15,7.78914e-19\n",
      "20,2.41697e-06,4.87388e-15,1.82688e-18\n",
      "50,1.64771e-05,2.94897e-14,1.61535e-17\n",
      "100,4.90487e-05,1.17442e-13,4.83202e-17\n",
      "200,4.75543e-04,8.94823e-13,3.34905e-16\n",
      "300,9.10926e-04,1.51116e-12,8.02134e-16\n",
      "400,1.79010e-03,3.71361e-12,1.60694e-15\n",
      "500,3.15942e-03,6.39867e-12,3.02471e-15\n",
      "750,4.57699e-03,9.96174e-12,4.19145e-15\n",
      "1000,9.00884e-03,1.73620e-11,7.91626e-15\n",
      "2000,3.41494e-02,6.47787e-11,3.03702e-14\n"
     ]
    }
   ],
   "source": [
    "print_results(results_avg_b)"
   ],
   "metadata": {
    "collapsed": false,
    "pycharm": {
     "name": "#%%\n"
    }
   }
  },
  {
   "cell_type": "code",
   "execution_count": 106,
   "outputs": [],
   "source": [
    "def test_cond(n: int):\n",
    "    A = np.zeros((n, n), dtype=np.double)\n",
    "\n",
    "    for i in range(n):\n",
    "        A[0, i] = 1\n",
    "    for i in range(1, n):\n",
    "        for j in range(n):\n",
    "            A[i, j] = 1/(i + j + 1)     # + 1 zamiast -1 bo iterujemy od 0\n",
    "\n",
    "    B = np.zeros((n, n), dtype=np.double)\n",
    "\n",
    "    for i in range(n):\n",
    "        for j in range(n):\n",
    "            if j >= i:\n",
    "                B[i, j] = (2 * (i + 1))/(j + 1)\n",
    "\n",
    "    for i in range(n):\n",
    "        for j in range(n):\n",
    "            if j < i:\n",
    "                B[i, j] = B[j, i]\n",
    "\n",
    "    return [n, np.linalg.cond(A), np.linalg.cond(B)]"
   ],
   "metadata": {
    "collapsed": false,
    "pycharm": {
     "name": "#%%\n"
    }
   }
  },
  {
   "cell_type": "code",
   "execution_count": 111,
   "outputs": [
    {
     "name": "stdout",
     "output_type": "stream",
     "text": [
      "n,a,b\n",
      "3,4.82922e+02,6.66330e+00\n",
      "4,1.70329e+04,1.22063e+01\n",
      "5,5.91877e+05,1.96555e+01\n",
      "6,2.03785e+07,2.90404e+01\n",
      "7,6.98046e+08,4.03873e+01\n",
      "8,2.38397e+10,5.37172e+01\n",
      "9,8.12690e+11,6.90466e+01\n",
      "10,2.76734e+13,8.63893e+01\n",
      "11,9.41947e+14,1.05757e+02\n",
      "12,3.13236e+16,1.27158e+02\n",
      "13,5.56262e+17,1.50602e+02\n",
      "14,9.31243e+17,1.76095e+02\n",
      "15,1.54489e+18,2.03645e+02\n",
      "16,6.41834e+17,2.33255e+02\n",
      "17,1.08340e+20,2.64932e+02\n",
      "18,7.35706e+19,2.98680e+02\n",
      "19,1.77333e+18,3.34504e+02\n",
      "20,1.40595e+19,3.72405e+02\n"
     ]
    }
   ],
   "source": [
    "results_cond = [[\"n\", \"a\", \"b\"]]\n",
    "for i in range(3, 21):\n",
    "    results_cond.append(test_cond(i))\n",
    "\n",
    "print(\",\".join(results_cond[0]))\n",
    "for i in range(1, len(results_cond)):\n",
    "    r = results_cond[i]\n",
    "    print(f\"{r[0]},{r[1]:.5e},{r[2]:.5e}\")"
   ],
   "metadata": {
    "collapsed": false,
    "pycharm": {
     "name": "#%%\n"
    }
   }
  },
  {
   "cell_type": "code",
   "execution_count": null,
   "outputs": [],
   "source": [],
   "metadata": {
    "collapsed": false,
    "pycharm": {
     "name": "#%%\n"
    }
   }
  }
 ],
 "metadata": {
  "kernelspec": {
   "display_name": "Python 3",
   "language": "python",
   "name": "python3"
  },
  "language_info": {
   "codemirror_mode": {
    "name": "ipython",
    "version": 2
   },
   "file_extension": ".py",
   "mimetype": "text/x-python",
   "name": "python",
   "nbconvert_exporter": "python",
   "pygments_lexer": "ipython2",
   "version": "2.7.6"
  }
 },
 "nbformat": 4,
 "nbformat_minor": 0
}