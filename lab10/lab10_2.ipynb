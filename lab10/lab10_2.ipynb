{
 "cells": [
  {
   "cell_type": "code",
   "execution_count": 1,
   "metadata": {
    "collapsed": true,
    "pycharm": {
     "name": "#%%\n"
    }
   },
   "outputs": [],
   "source": [
    "import numpy as np"
   ]
  },
  {
   "cell_type": "code",
   "execution_count": 2,
   "outputs": [],
   "source": [
    "def get_matrix(n):\n",
    "    A = np.zeros((n,n))\n",
    "    for i in range(n):\n",
    "        A[i, i] = 10\n",
    "        if i != 0:\n",
    "            A[i, i-1] = 3 / (i + 1)\n",
    "\n",
    "        for j in range(n):\n",
    "            if j > i:\n",
    "                A[i, j] = np.power(-1, j+1) * (3 / (j + 1))\n",
    "\n",
    "    return A"
   ],
   "metadata": {
    "collapsed": false,
    "pycharm": {
     "name": "#%%\n"
    }
   }
  },
  {
   "cell_type": "code",
   "execution_count": 3,
   "outputs": [],
   "source": [
    "def spectral_radius(matrix):\n",
    "    lower_triangular = np.tril(matrix)\n",
    "    upper_triangular = np.triu(matrix)\n",
    "    combined_matrix = lower_triangular + upper_triangular\n",
    "    np.fill_diagonal(combined_matrix, 0)\n",
    "\n",
    "    diagonal_matrix = np.diag(matrix)\n",
    "    identity_matrix = np.eye(len(matrix))\n",
    "    inverse_diagonal = np.linalg.inv(identity_matrix * diagonal_matrix)\n",
    "\n",
    "    final_matrix = -inverse_diagonal @ combined_matrix\n",
    "\n",
    "    eigenvalues = np.linalg.eigvals(final_matrix)\n",
    "    print(eigenvalues)\n",
    "\n",
    "    return np.max(np.abs(eigenvalues))"
   ],
   "metadata": {
    "collapsed": false,
    "pycharm": {
     "name": "#%%\n"
    }
   }
  },
  {
   "cell_type": "code",
   "execution_count": 77,
   "outputs": [],
   "source": [
    "N = [2, 5, 10, 15, 20, 25, 50, 75, 100, 150, 250, 500, 750, 1000, 2000]"
   ],
   "metadata": {
    "collapsed": false,
    "pycharm": {
     "name": "#%%\n"
    }
   }
  },
  {
   "cell_type": "code",
   "execution_count": 78,
   "outputs": [],
   "source": [
    "result = []\n",
    "for n in N:\n",
    "    matrix = get_matrix(n)\n",
    "    result.append((n, spectral_radius(matrix)))"
   ],
   "metadata": {
    "collapsed": false,
    "pycharm": {
     "name": "#%%\n"
    }
   }
  },
  {
   "cell_type": "code",
   "execution_count": 79,
   "outputs": [
    {
     "name": "stdout",
     "output_type": "stream",
     "text": [
      "n, promień spektralny\n",
      "2, 0.15000000000000002\n",
      "5, 0.15000000000000022\n",
      "10, 0.15\n",
      "15, 0.1500000000000007\n",
      "20, 0.15000000000000047\n",
      "25, 0.1500000000000003\n",
      "50, 0.15000000000000008\n",
      "75, 0.1499999999999998\n",
      "100, 0.15000000000000013\n",
      "150, 0.1499999999999999\n",
      "250, 0.15000000000000013\n",
      "500, 0.15000000000000027\n",
      "750, 0.15000000000000047\n",
      "1000, 0.1500000000000006\n",
      "2000, 0.15000000000000074\n"
     ]
    }
   ],
   "source": [
    "print(\"n, promień spektralny\")\n",
    "for n, radius in result:\n",
    "    print(f\"{n}, {radius}\")"
   ],
   "metadata": {
    "collapsed": false,
    "pycharm": {
     "name": "#%%\n"
    }
   }
  }
 ],
 "metadata": {
  "kernelspec": {
   "display_name": "Python 3",
   "language": "python",
   "name": "python3"
  },
  "language_info": {
   "codemirror_mode": {
    "name": "ipython",
    "version": 2
   },
   "file_extension": ".py",
   "mimetype": "text/x-python",
   "name": "python",
   "nbconvert_exporter": "python",
   "pygments_lexer": "ipython2",
   "version": "2.7.6"
  }
 },
 "nbformat": 4,
 "nbformat_minor": 0
}