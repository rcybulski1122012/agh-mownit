{
 "cells": [
  {
   "cell_type": "code",
   "execution_count": 2,
   "outputs": [],
   "source": [
    "import numpy as np\n",
    "import random\n",
    "import time\n",
    "import matplotlib.pyplot as plt"
   ],
   "metadata": {
    "collapsed": false,
    "pycharm": {
     "name": "#%%\n"
    }
   }
  },
  {
   "cell_type": "code",
   "execution_count": 3,
   "outputs": [],
   "source": [
    "def stop_residual(A, b, x, x_new):\n",
    "    return np.max(np.abs(np.array(np.matmul(A, x)) - np.array(b)))\n",
    "\n",
    "\n",
    "def stop_incremental(A, b, x, x_new):\n",
    "    return np.max(np.abs(x - x_new))"
   ],
   "metadata": {
    "collapsed": false,
    "pycharm": {
     "name": "#%%\n"
    }
   }
  },
  {
   "cell_type": "code",
   "execution_count": 4,
   "outputs": [],
   "source": [
    "def avg_err(x, x_new):\n",
    "    return np.average(np.abs(np.array(x) - np.array(x_new)))"
   ],
   "metadata": {
    "collapsed": false,
    "pycharm": {
     "name": "#%%\n"
    }
   }
  },
  {
   "cell_type": "code",
   "execution_count": 5,
   "outputs": [],
   "source": [
    "def get_matrix(n):\n",
    "    A = np.zeros((n,n))\n",
    "    for i in range(n):\n",
    "        A[i, i] = 10\n",
    "        if i != 0:\n",
    "            A[i, i-1] = 3 / (i + 1)\n",
    "\n",
    "        for j in range(n):\n",
    "            if j > i:\n",
    "                A[i, j] = np.power(-1, j+1) * (3 / (j + 1))\n",
    "\n",
    "    return A"
   ],
   "metadata": {
    "collapsed": false,
    "pycharm": {
     "name": "#%%\n"
    }
   }
  },
  {
   "cell_type": "code",
   "execution_count": null,
   "outputs": [],
   "source": [
    "def _jacobi_x(A, b, x):\n",
    "    n = len(A)\n",
    "    new_x = np.zeros(n)\n",
    "    for i in range(n):\n",
    "        s = 0\n",
    "        for j in range(n):\n",
    "            if j != i:\n",
    "                s += A[i, j] * x[j]\n",
    "        new_x[i] = (b[i] - s) / A[i, i]\n",
    "    return new_x\n",
    "\n",
    "\n",
    "def jacobi(A, b, x, eps, stop, max_iter=1000):\n",
    "    n = len(b)\n",
    "    x_new = x.copy()\n",
    "\n",
    "    start = time.time()\n",
    "    iterations = 1\n",
    "    while True:\n",
    "        for i in range(n):\n",
    "            row_values = A[i, :i].tolist() + A[i, i + 1:].tolist()\n",
    "            row_sum = np.dot(np.array(row_values), np.concatenate((x[:i], x[i + 1:])))\n",
    "            x_new[i] = (b[i] - row_sum) / A[i, i]\n",
    "\n",
    "\n",
    "        if stop(x, x_new, A, b) < eps:\n",
    "            t = time.time() - start\n",
    "            return x_new, iterations, t\n",
    "\n",
    "        if iterations > max_iter:\n",
    "            t = time.time() - start\n",
    "            return x_new, iterations, t\n",
    "\n",
    "\n",
    "        iterations += 1\n",
    "        x = x_new.copy()\n",
    "\n",
    "\n",
    "def get_random_x1(n):\n",
    "    return [random.choice([-1, 1]) for _ in range(n)]\n",
    "\n",
    "def get_random_x2(n):\n",
    "    return [random.choice([-1, 1]) * random.randint(80, 120) for _ in range(n)]"
   ],
   "metadata": {
    "collapsed": false,
    "pycharm": {
     "name": "#%%\n"
    }
   }
  },
  {
   "cell_type": "code",
   "execution_count": null,
   "outputs": [],
   "source": [
    "def plot(comps, title, x_label, y_label):\n",
    "    N = [3, 5, 10, 15, 20, 25, 50, 75, 100, 200, 300, 400, 500]\n",
    "    plt.title(title)\n",
    "    plt.xlabel(x_label)\n",
    "    plt.ylabel(y_label)\n",
    "\n",
    "    plt.plot(N, comps[0], label=\"kryterium rezydualne, wektor typu a\")\n",
    "    plt.plot(N, comps[1], label=\"kryterium przyrostowe, wektor typu a\")\n",
    "    plt.plot(N, comps[2], label=\"kryterium rezydualne, wektor typu b\")\n",
    "    plt.plot(N, comps[3], label=\"kryterium przyrostowe, wektor typu b\")\n",
    "    plt.legend()\n",
    "\n",
    "    plt.show()"
   ],
   "metadata": {
    "collapsed": false,
    "pycharm": {
     "name": "#%%\n"
    }
   }
  },
  {
   "cell_type": "code",
   "execution_count": 7,
   "outputs": [],
   "source": [
    "X = get_random_x1(10000)\n",
    "X_start = get_random_x2(10000)\n",
    "N = [3, 5, 10, 15, 20, 25, 50]\n",
    "\n",
    "# n_r, n_i, f_r, f_i\n",
    "comp_times = [[], [], [], []]\n",
    "comp_results = [[], [], [], []]\n",
    "comp_iterations = [[], [], [], []]"
   ],
   "metadata": {
    "collapsed": false,
    "pycharm": {
     "name": "#%%\n"
    }
   }
  },
  {
   "cell_type": "code",
   "execution_count": 8,
   "outputs": [],
   "source": [
    "def test_n():\n",
    "    N = [3, 5, 10, 15, 20, 25, 50, 75, 100, 200, 300, 400, 500]\n",
    "    results = [\n",
    "        [\"n\", \"liczba iteracji\", \"-\",  \"błąd średni\", \"-\", \"czas (s)\", \"-\"],\n",
    "        [\"-\", \"rezydualne\", \"przyrostowe\", \"rezydualne\", \"przyrostowe\", \"rezydualne\", \"przyrostowe\"]\n",
    "    ]\n",
    "    eps = 10e-10\n",
    "\n",
    "    for n in N:\n",
    "        matrix = get_matrix(n)\n",
    "        x = get_random_x1(n)\n",
    "        b = np.matmul(matrix, x)\n",
    "        r_x, r_i, r_t = jacobi(matrix, b, get_random_x1(n), eps, stop_residual)\n",
    "        i_x, i_i, i_t = jacobi(matrix, b, get_random_x1(n), eps, stop_incremental)\n",
    "\n",
    "        comp_times[0].append(r_t)\n",
    "        comp_times[1].append(i_t)\n",
    "\n",
    "        comp_results[0].append(avg_err(x, r_x))\n",
    "        comp_results[1].append(avg_err(x, i_x))\n",
    "\n",
    "        comp_iterations[0].append(r_i)\n",
    "        comp_iterations[1].append(i_i)\n",
    "\n",
    "        results.append([str(n), str(r_i), str(i_i), f\"{avg_err(x, r_x):.5e}\", f\"{avg_err(x, i_x):.5e}\", f\"{r_t:.5f}\", f\"{i_t:.5f}\"])\n",
    "\n",
    "    for row in results:\n",
    "        print(\"\\t\".join(row))"
   ],
   "metadata": {
    "collapsed": false,
    "pycharm": {
     "name": "#%%\n"
    }
   }
  },
  {
   "cell_type": "code",
   "execution_count": 12,
   "outputs": [],
   "source": [
    "def test_x():\n",
    "    N = [3, 5, 10, 15, 20, 25, 50, 75, 100, 200, 300, 400, 500]\n",
    "    results = [\n",
    "        [\"n\", \"liczba iteracji\", \"-\",  \"błąd średni\", \"-\", \"czas (s)\", \"-\"],\n",
    "        [\"-\", \"rezydualne\", \"przyrostowe\", \"rezydualne\", \"przyrostowe\", \"rezydualne\", \"przyrostowe\"]\n",
    "    ]\n",
    "    eps = 10e-10\n",
    "\n",
    "    for n in N:\n",
    "        matrix = get_matrix(n)\n",
    "        x = get_random_x1(n)\n",
    "        b = np.matmul(matrix, x)\n",
    "        r_x, r_i, r_t = jacobi(matrix, b, get_random_x2(n), eps, stop_residual)\n",
    "        i_x, i_i, i_t = jacobi(matrix, b, get_random_x2(n), eps, stop_incremental)\n",
    "\n",
    "        comp_times[2].append(r_t)\n",
    "        comp_times[3].append(i_t)\n",
    "\n",
    "        comp_results[2].append(avg_err(x, r_x))\n",
    "        comp_results[3].append(avg_err(x, i_x))\n",
    "\n",
    "        comp_iterations[2].append(r_i)\n",
    "        comp_iterations[3].append(i_i)\n",
    "\n",
    "        results.append([str(n), str(r_i), str(i_i), f\"{avg_err(x, r_x):.5e}\", f\"{avg_err(x, i_x):.5e}\", f\"{r_t:.5f}\", f\"{i_t:.5f}\"])\n",
    "\n",
    "    for row in results:\n",
    "        print(\"\\t\".join(row))\n",
    "\n"
   ],
   "metadata": {
    "collapsed": false,
    "pycharm": {
     "name": "#%%\n"
    }
   }
  },
  {
   "cell_type": "code",
   "execution_count": null,
   "outputs": [],
   "source": [
    "def test_eps():\n",
    "    N = 100\n",
    "    results = [\n",
    "        [\"eps\", \"liczba iteracji\", \"-\",  \"błąd średni\", \"-\", \"czas (s)\", \"-\"],\n",
    "        [\"-\", \"rezydualne\", \"przyrostowe\", \"rezydualne\", \"przyrostowe\", \"rezydualne\", \"przyrostowe\"]\n",
    "    ]\n",
    "\n",
    "    EPS = [10**(-i) for i in range(1, 11)] + [10**-15]\n",
    "\n",
    "\n",
    "    for eps in EPS:\n",
    "        matrix = get_matrix(N)\n",
    "        x = get_random_x1(N)\n",
    "        b = np.matmul(matrix, x)\n",
    "        r_x, r_i, r_t = jacobi(matrix, b, get_random_x1(N), eps, stop_residual)\n",
    "        i_x, i_i, i_t = jacobi(matrix, b, get_random_x1(N), eps, stop_incremental)\n",
    "\n",
    "\n",
    "        results.append([f\"{eps:.0e}\", str(r_i), str(i_i), f\"{avg_err(x, r_x):.5e}\", f\"{avg_err(x, i_x):.5e}\", f\"{r_t:.5f}\", f\"{i_t:.5f}\"])\n",
    "\n",
    "    for row in results:\n",
    "        print(\"\\t\".join(row))\n"
   ],
   "metadata": {
    "collapsed": false,
    "pycharm": {
     "name": "#%%\n"
    }
   }
  },
  {
   "cell_type": "code",
   "execution_count": null,
   "outputs": [],
   "source": [
    "test_n()"
   ],
   "metadata": {
    "collapsed": false,
    "pycharm": {
     "name": "#%%\n"
    }
   }
  },
  {
   "cell_type": "code",
   "execution_count": null,
   "outputs": [],
   "source": [
    "test_x()"
   ],
   "metadata": {
    "collapsed": false,
    "pycharm": {
     "name": "#%%\n"
    }
   }
  },
  {
   "cell_type": "code",
   "execution_count": null,
   "outputs": [],
   "source": [
    "test_eps()"
   ],
   "metadata": {
    "collapsed": false,
    "pycharm": {
     "name": "#%%\n"
    }
   }
  },
  {
   "cell_type": "code",
   "execution_count": null,
   "outputs": [],
   "source": [
    "plot(comp_times, \"Czasy wykonywania programu\", \"n\", \"czas (s)\")\n",
    "plot(comp_iterations, \"Liczba iteracji\", \"n\", \"liczba iteracji\")\n",
    "plot(comp_results, \"Błędy średnie\", \"n\", \"błąd średni\")"
   ],
   "metadata": {
    "collapsed": false,
    "pycharm": {
     "name": "#%%\n"
    }
   }
  }
 ],
 "metadata": {
  "kernelspec": {
   "display_name": "Python 3",
   "language": "python",
   "name": "python3"
  },
  "language_info": {
   "codemirror_mode": {
    "name": "ipython",
    "version": 2
   },
   "file_extension": ".py",
   "mimetype": "text/x-python",
   "name": "python",
   "nbconvert_exporter": "python",
   "pygments_lexer": "ipython2",
   "version": "2.7.6"
  }
 },
 "nbformat": 4,
 "nbformat_minor": 0
}